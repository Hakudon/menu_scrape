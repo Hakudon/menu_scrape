{
 "cells": [
  {
   "cell_type": "code",
   "execution_count": 3,
   "metadata": {},
   "outputs": [],
   "source": [
    "import os\n",
    "\n",
    "api_key = os.getenv(\"openai_api_key\")"
   ]
  },
  {
   "cell_type": "code",
   "execution_count": null,
   "metadata": {},
   "outputs": [],
   "source": []
  },
  {
   "cell_type": "code",
   "execution_count": null,
   "metadata": {},
   "outputs": [],
   "source": []
  },
  {
   "cell_type": "code",
   "execution_count": null,
   "metadata": {},
   "outputs": [],
   "source": [
    "import aiohttp\n",
    "from bs4 import BeautifulSoup\n",
    "import pprint\n",
    "from playwright.async_api import async_playwright\n",
    "from langchain.chains import create_extraction_chain\n",
    "from langchain_text_splitters import RecursiveCharacterTextSplitter\n",
    "from langchain.chat_models import ChatOpenAI\n",
    "\n",
    "from langchain_community.document_loaders import AsyncChromiumLoader\n",
    "from langchain_community.document_loaders import AsyncHtmlLoader\n",
    "from langchain_community.document_transformers import Html2TextTransformer\n",
    "from langchain_community.document_transformers import BeautifulSoupTransformer\n"
   ]
  },
  {
   "cell_type": "code",
   "execution_count": null,
   "metadata": {},
   "outputs": [],
   "source": [
    "llm = ChatOpenAI(temperature=0, model=\"gpt-3.5-turbo-0125\", openai_api_key=api_key)\n",
    "\n",
    "schema1 = {\n",
    "    \"properties\": {\n",
    "        \"food\": {\"type\": \"string\"},\n",
    "        \"price\": {\"type\": \"integer\"},\n",
    "        \"description\": {\"type\": \"string\"}\n",
    "    },\n",
    "    \"required\": [\"food\", \"price\", \"description\"]\n",
    "}\n",
    "schema2 = {\n",
    "    \"properties\": {\n",
    "        \"food category\": {\"title\":\"Category\", \"description\": \"The main food category in menu\", \"type\": \"string\"},\n",
    "        \"food item\": {\"title\":\"Food name\", \"description\": \"The main food item in menu\", \"type\": \"string\"},\n",
    "        \"food price\": {\"title\": \"Price\", \"description\": \"The price of each food item\", \"type\": \"integer\"},\n",
    "        \"description\": {\"title\": \"Description\", \"description\": \"The description of food item\",\"type\": \"string\"}\n",
    "    },\n",
    "    \"required\": [\"food category\",\"food item\", \"food price\", \"description\"]\n",
    "}\n",
    "\n",
    "structured_schema = {\n",
    "    \"properties\": {\n",
    "        \"product\": {\"type\": \"string\"},\n",
    "        \"description\": {\"type\": \"string\"},\n",
    "    },\n",
    "    \"required\": [\"product\", \"description\"],\n",
    "}\n",
    "\n",
    "def extract(content: str, schema: dict):\n",
    "    return create_extraction_chain(schema=schema, llm=llm).run(content)"
   ]
  },
  {
   "cell_type": "code",
   "execution_count": null,
   "metadata": {},
   "outputs": [],
   "source": [
    "# from langchain_text_splitters import RecursiveCharacterTextSplitter\n",
    "def scrape_with_playwright(urls, schema):\n",
    "    loader = AsyncHtmlLoader(urls)\n",
    "    docs = loader.load()\n",
    "    \n",
    "    html2text = Html2TextTransformer()\n",
    "    docs_transformed = html2text.transform_documents(docs)\n",
    "    \n",
    "    print(\"Extracting content with LLM\")\n",
    "\n",
    "    # Grab the first 1000 tokens of the site\n",
    "    splitter = RecursiveCharacterTextSplitter.from_tiktoken_encoder(\n",
    "        chunk_size=800, chunk_overlap=0\n",
    "    )\n",
    "    splits = splitter.split_documents(docs_transformed)\n",
    "\n",
    "    # Process the first split\n",
    "    extracted_content = extract(schema=schema, content=splits[0].page_content)\n",
    "    pprint.pprint(extracted_content)\n",
    "    return extracted_content\n",
    "\n",
    "urls = [\"https://cafebrazil.com/menu/\"]\n",
    "extracted_content = scrape_with_playwright(urls, schema=schema2)\n"
   ]
  },
  {
   "cell_type": "markdown",
   "metadata": {},
   "source": [
    "#######################################################################"
   ]
  },
  {
   "cell_type": "code",
   "execution_count": null,
   "metadata": {},
   "outputs": [],
   "source": [
    "from langchain_core.prompts import ChatPromptTemplate\n",
    "from langchain.chat_models import ChatOpenAI\n",
    "\n",
    "llm = ChatOpenAI(temperature=0, model=\"gpt-3.5-turbo-0125\", openai_api_key=api_key)"
   ]
  },
  {
   "cell_type": "code",
   "execution_count": null,
   "metadata": {},
   "outputs": [],
   "source": [
    "urls = [\"https://getglasskin.com/\",\"https://cafebrazil.com/menu/\"]\n",
    "url = [\"https://cafebrazil.com/menu\", \"https://thetownedeli.com/food-menu/\"]\n",
    "url2 = [\"https://cafebrazil.com\"]\n",
    "\n",
    "from langchain_community.document_loaders import SeleniumURLLoader\n",
    "loader = SeleniumURLLoader(urls=url2)\n",
    "data = loader.load()\n",
    "# data1 = data[1]\n",
    "# data2 = data\n",
    "pprint.pprint(data)"
   ]
  },
  {
   "cell_type": "code",
   "execution_count": null,
   "metadata": {},
   "outputs": [],
   "source": [
    "#Alternative loader\n",
    "from bs4 import BeautifulSoup as Soup\n",
    "from langchain_community.document_loaders.recursive_url_loader import RecursiveUrlLoader\n",
    "\n",
    "url = \"https://cafebrazil.com\"\n",
    "loader = RecursiveUrlLoader(\n",
    "    url=url, max_depth=2, extractor=lambda x: Soup(x, \"html.parser\").text\n",
    ")\n",
    "docs = loader.load()\n"
   ]
  },
  {
   "cell_type": "code",
   "execution_count": null,
   "metadata": {},
   "outputs": [],
   "source": [
    "pprint.pprint(docs)"
   ]
  },
  {
   "cell_type": "code",
   "execution_count": null,
   "metadata": {},
   "outputs": [],
   "source": [
    "prompt = ChatPromptTemplate.from_messages([\n",
    "    (\"system\", \"You are a world class food menu analyzer. Your job is to extract all menu link from the given {data}\"),\n",
    "    (\"user\", \"{input}\")\n",
    "])"
   ]
  },
  {
   "cell_type": "code",
   "execution_count": null,
   "metadata": {},
   "outputs": [],
   "source": [
    "\n",
    "prompt = ChatPromptTemplate.from_messages([\n",
    "    (\"system\", \"You are a world class food menu analyzer. Your job is to extract menu data from the given {docs[0]}\"),\n",
    "    (\"user\", \"{input}\")\n",
    "])"
   ]
  },
  {
   "cell_type": "code",
   "execution_count": null,
   "metadata": {},
   "outputs": [],
   "source": [
    "from langchain_core.output_parsers import JsonOutputParser\n",
    "from langchain_core.pydantic_v1 import BaseModel, Field\n",
    "\n",
    "class Menu_Links(BaseModel):\n",
    "    url_link: str = Field(description=\"url link of the menu information\")\n",
    "    \n",
    "class Menu(BaseModel):\n",
    "    category: str = Field(description=\"category of the food menu\")\n",
    "    menu_item: str = Field(description=\"menu item name\")\n",
    "    description: str = Field(description=\"menu item description with ingredients\")\n",
    "    price: float = Field(description=\"price of the menu in USD. 'NA' if not available\")\n",
    "\n",
    "parser = JsonOutputParser(pydantic_object=Menu)\n",
    "# parser = JsonOutputParser(pydantic_object=Menu_Links)"
   ]
  },
  {
   "cell_type": "code",
   "execution_count": null,
   "metadata": {},
   "outputs": [],
   "source": [
    "chain1 = prompt | llm | parser"
   ]
  },
  {
   "cell_type": "code",
   "execution_count": null,
   "metadata": {},
   "outputs": [],
   "source": [
    "results = chain1.invoke({\"input\": \"Please extract all the url links of the information related to the menu from the given {docs} and store it in dictionary\",\n",
    "                         \"data\": docs})"
   ]
  },
  {
   "cell_type": "code",
   "execution_count": null,
   "metadata": {},
   "outputs": [],
   "source": [
    "pprint.pprint(results)"
   ]
  },
  {
   "cell_type": "code",
   "execution_count": null,
   "metadata": {},
   "outputs": [],
   "source": [
    "chain = prompt | llm | parser"
   ]
  },
  {
   "cell_type": "code",
   "execution_count": null,
   "metadata": {},
   "outputs": [],
   "source": [
    "results = chain1.invoke({\"input\": \"Please extract the category, list of all the menu items name within that category along with description in single string format and price of the menu item from {docs} in a json format. If price is not available, please leave the field empty\",\n",
    "              \"data\": docs})"
   ]
  },
  {
   "cell_type": "code",
   "execution_count": null,
   "metadata": {},
   "outputs": [],
   "source": [
    "pprint.pprint(results)"
   ]
  },
  {
   "cell_type": "code",
   "execution_count": null,
   "metadata": {},
   "outputs": [],
   "source": [
    "pprint.pprint(results)"
   ]
  },
  {
   "cell_type": "markdown",
   "metadata": {},
   "source": [
    "###############################################################"
   ]
  },
  {
   "cell_type": "code",
   "execution_count": null,
   "metadata": {},
   "outputs": [],
   "source": [
    "urls = [\"https://getglasskin.com/\",\"https://cafebrazil.com\"]\n",
    "url1 = [\"https://cafebrazil.com/menu/\"]\n",
    "url_2 = [\"https://getglasskin.com/\"]\n",
    "from langchain_community.document_loaders import SeleniumURLLoader\n",
    "loader = SeleniumURLLoader(urls=url1)\n",
    "data = loader.load()\n",
    "pprint.pprint(data)"
   ]
  },
  {
   "cell_type": "code",
   "execution_count": null,
   "metadata": {},
   "outputs": [],
   "source": [
    "from langchain.llms import OpenAI\n",
    "from langchain.chat_models import ChatOpenAI\n",
    "from langchain.prompts.chat import (\n",
    "    ChatPromptTemplate,\n",
    "    HumanMessagePromptTemplate\n",
    ")\n",
    "from langchain.output_parsers import PydanticOutputParser\n",
    "from pydantic import BaseModel, Field\n",
    "\n",
    "\n",
    "#building the llm model\n",
    "llm_model = ChatOpenAI(temperature=0, model=\"gpt-3.5-turbo-0125\", openai_api_key=openai_key_2)\n",
    "\n"
   ]
  },
  {
   "cell_type": "code",
   "execution_count": null,
   "metadata": {},
   "outputs": [],
   "source": [
    "#Defining output datatypes within the class and initialize the parser\n",
    "class Menu(BaseModel):\n",
    "    menu: list = Field(description=\"Python list of dictionaries containing category of food, food menu, price of the menu in USD. 'NA' if not available, menu description with ingredients\")\n",
    "    \n",
    "#Initialize a parser\n",
    "parser = PydanticOutputParser(pydantic_object=Menu)"
   ]
  },
  {
   "cell_type": "code",
   "execution_count": null,
   "metadata": {},
   "outputs": [],
   "source": [
    "human_prompt = HumanMessagePromptTemplate.from_template(\"{request}\\n{format_instructions}\")\n",
    "chat_prompt = ChatPromptTemplate.from_messages([human_prompt])\n",
    "\n",
    "request = chat_prompt.format_prompt(\n",
    "    request= \"Give me all the details about the menu from the {data}\",\n",
    "    format_instructions = parser.get_format_instructions()\n",
    ").to_messages()"
   ]
  },
  {
   "cell_type": "code",
   "execution_count": null,
   "metadata": {},
   "outputs": [],
   "source": [
    "results = llm_model(request, temperature=0)\n",
    "result_values = parser.parse(results.content) #menu class object\n",
    "print(result_values)"
   ]
  },
  {
   "cell_type": "code",
   "execution_count": null,
   "metadata": {},
   "outputs": [],
   "source": [
    "import pandas as pd\n",
    "\n",
    "df = pd.read_csv(\"Google_all_details.csv\") \n",
    "res_url = df['Website'].tolist()\n",
    "print(res_url)"
   ]
  },
  {
   "cell_type": "code",
   "execution_count": 5,
   "metadata": {},
   "outputs": [
    {
     "ename": "NameError",
     "evalue": "name 'df' is not defined",
     "output_type": "error",
     "traceback": [
      "\u001b[1;31m---------------------------------------------------------------------------\u001b[0m",
      "\u001b[1;31mNameError\u001b[0m                                 Traceback (most recent call last)",
      "Cell \u001b[1;32mIn[5], line 1\u001b[0m\n\u001b[1;32m----> 1\u001b[0m \u001b[38;5;28mprint\u001b[39m(\u001b[43mdf\u001b[49m)\n",
      "\u001b[1;31mNameError\u001b[0m: name 'df' is not defined"
     ]
    }
   ],
   "source": [
    "print(df)"
   ]
  },
  {
   "cell_type": "markdown",
   "metadata": {},
   "source": [
    "#####################################################################"
   ]
  },
  {
   "cell_type": "code",
   "execution_count": 7,
   "metadata": {},
   "outputs": [
    {
     "name": "stderr",
     "output_type": "stream",
     "text": [
      "C:\\Users\\shres\\AppData\\Local\\Temp\\ipykernel_1424\\2913605469.py:40: DtypeWarning: Columns (7,42) have mixed types. Specify dtype option on import or set low_memory=False.\n",
      "  df = pd.read_csv('Google_all_details.csv')\n"
     ]
    },
    {
     "name": "stdout",
     "output_type": "stream",
     "text": [
      "['https://delfriscos.com',\n",
      " 'https://locations.tacobell.com',\n",
      " 'https://tropicalsmoothiecafe.com',\n",
      " 'https://obbiespizza.com',\n",
      " 'https://cornerbakerycafe.com',\n",
      " 'https://m.facebook.com',\n",
      " 'https://genkiramenmason.com']\n",
      "0\n",
      "1\n",
      "2\n",
      "3\n",
      "4\n",
      "5\n",
      "6\n",
      "Error fetching page: HTTPSConnectionPool(host='genkiramenmason.com', port=443): Max retries exceeded with url: / (Caused by ConnectTimeoutError(<urllib3.connection.HTTPSConnection object at 0x0000025099919670>, 'Connection to genkiramenmason.com timed out. (connect timeout=20)'))\n",
      "0    [https://delfriscos.com#main-content, https://...\n",
      "1    [https://locations.tacobell.com#first-anchor, ...\n",
      "2    [https://tropicalsmoothiecafe.com/, https://lo...\n",
      "3    [https://www.obbiespizza.com, https://www.obbi...\n",
      "4    [https://cornerbakerycafe.com#main-content, ht...\n",
      "5    [https://m.facebook.com/recover/initiate/?priv...\n",
      "6                                                   []\n",
      "7                                                 None\n",
      "8                                                 None\n",
      "9                                                 None\n",
      "Name: menu_links, dtype: object\n"
     ]
    }
   ],
   "source": [
    "import csv\n",
    "import os\n",
    "import pprint\n",
    "from urllib.parse import urljoin\n",
    "\n",
    "api_key = os.getenv(\"openai_api_key\")\n",
    "\n",
    "# import openai\n",
    "\n",
    "import pandas as pd\n",
    "import requests\n",
    "from bs4 import BeautifulSoup\n",
    "from langchain_core.output_parsers import JsonOutputParser\n",
    "\n",
    "\n",
    "llm = ChatOpenAI(temperature=0, model=\"gpt-3.5-turbo-0125\", openai_api_key=api_key)\n",
    "\n",
    "def extract_links(url):\n",
    "    try:\n",
    "        response = requests.get(url, allow_redirects=True, timeout=20)\n",
    "        response.raise_for_status()  # Raise exception for bad status codes\n",
    "        content = response.text\n",
    "        soup = BeautifulSoup(content, 'html.parser')\n",
    "        \n",
    "        #Extract links\n",
    "        links = set()  # Using a set to avoid duplicate links\n",
    "        for link in soup.find_all('a', href=True):\n",
    "            absolute_url = urljoin(url, link['href'])  # Make relative URLs absolute\n",
    "            # metadata = extract_link_metadata(url)\n",
    "            links.append(absolute_url)\n",
    "        return list(links)\n",
    "    except requests.exceptions.RequestException as e:\n",
    "        print(\"Error fetching page:\", e)\n",
    "        return []\n",
    "\n",
    "# Example usage:\n",
    "df = pd.read_csv('Google_all_details.csv')\n",
    "res_urls = df['Website'][:7].tolist()\n",
    "\n",
    "df['menu_links'] = None\n",
    "# Ensure URLs start with \"https://\"\n",
    "res_urls = ['https://' + url if not url.startswith('http') else url for url in res_urls]\n",
    "pprint.pprint(res_urls)\n",
    "\n",
    "# Iterate over each URL, extract links, and update DataFrame\n",
    "for i, url in enumerate(res_urls):\n",
    "    print(i)\n",
    "    menu_links = extract_links(url)\n",
    "    \n",
    "    df.at[i, 'menu_links'] = menu_links\n",
    "\n",
    "pprint.pprint(df['sel_links'][:10])"
   ]
  },
  {
   "cell_type": "code",
   "execution_count": 68,
   "metadata": {},
   "outputs": [
    {
     "name": "stdout",
     "output_type": "stream",
     "text": [
      "['https://delfriscos.com#main-content', 'https://delfriscos.com/', 'https://delfriscos.com/store-locator/', 'https://delfriscos.com/view-all-locations/', 'https://delfriscos.com/specials/', 'https://delfriscos.com/about/', 'https://delfriscos.com/dress-code/', 'https://delfriscos.com/press/', 'https://delfriscos.com/blog/', 'https://delfriscos.com/private-events/', 'https://delfriscos.com/catering/', 'https://delfriscos.alohaorderonline.com/Engage.aspx#/engage/ordering/menu', 'https://delfriscos.com/', 'https://delfriscos.com/store-locator/', 'https://delfriscos.com/view-all-locations/', 'https://delfriscos.com/specials/', 'https://delfriscos.com/about/', 'https://delfriscos.com/dress-code/', 'https://delfriscos.com/press/', 'https://delfriscos.com/blog/', 'https://delfriscos.com/private-events/', 'https://delfriscos.com/catering/', 'https://delfriscos.alohaorderonline.com/Engage.aspx#/engage/ordering/menu', 'https://delfriscos.com/gift-cards/', 'https://www.landrysinc.com/franchise/del-friscos-franchise', 'https://www.landrysselect.com/join-now/', 'https://careers.landrysinc.com/landrys-careers-home/jobs?tags1=Del%20Frisco%27s', 'https://specials.delfriscos.com/join-email/', 'https://delfriscos.com/accessibility/', 'https://www.landrysinc.com/terms-of-use', 'https://www.landrysinc.com/feedback-brands-listing', 'https://delfriscos.alohaorderonline.com/Engage.aspx#/engage/ordering/menu', 'https://www.facebook.com/DelFrisco/', 'https://twitter.com/del_friscos', 'https://www.instagram.com/del.friscos/', 'https://getbento.com/?utm_source=header&utm_campaign=delfriscos.com', 'https://delfriscos.com/store-locator', 'https://delfriscos.com/specials', 'https://delfriscos.com/event/concha-y-toro-wine-dinner/', 'https://delfriscos.com/event/easter/', 'https://delfriscos.com/event/lent-2024/', 'https://delfriscos.com/store-locator', 'https://delfriscos.com/store-locator', 'https://delfriscos.com/private-events', 'https://www.landrysinc.com/privacy-notice', 'https://delfriscos.alohaorderonline.com/Engage.aspx#/engage/ordering/menu', 'https://www.facebook.com/DelFrisco/', 'https://twitter.com/del_friscos', 'https://www.instagram.com/del.friscos/', 'https://delfriscos.com/gift-cards/', 'https://www.landrysinc.com/franchise/del-friscos-franchise', 'https://www.landrysselect.com/join-now/', 'https://careers.landrysinc.com/landrys-careers-home/jobs?tags1=Del%20Frisco%27s', 'https://specials.delfriscos.com/join-email/', 'https://delfriscos.com/accessibility/', 'https://www.landrysinc.com/terms-of-use', 'https://www.landrysinc.com/feedback-brands-listing', 'https://www.landrysinc.com/privacy-notice', 'https://delfriscos.alohaorderonline.com/Engage.aspx#/engage/ordering/menu', 'https://getbento.com/?utm_source=footer&utm_campaign=delfriscos.com', 'https://policies.google.com/privacy', 'https://policies.google.com/terms', 'https://www.landrysinc.com/privacy-notice', 'https://policies.google.com/privacy', 'https://policies.google.com/terms']\n",
      "https://delfriscos.com#main-content, https://delfriscos.com/, https://delfriscos.com/store-locator/, https://delfriscos.com/view-all-locations/, https://delfriscos.com/specials/, https://delfriscos.com/about/, https://delfriscos.com/dress-code/, https://delfriscos.com/press/, https://delfriscos.com/blog/, https://delfriscos.com/private-events/, https://delfriscos.com/catering/, https://delfriscos.alohaorderonline.com/Engage.aspx#/engage/ordering/menu, https://delfriscos.com/, https://delfriscos.com/store-locator/, https://delfriscos.com/view-all-locations/, https://delfriscos.com/specials/, https://delfriscos.com/about/, https://delfriscos.com/dress-code/, https://delfriscos.com/press/, https://delfriscos.com/blog/, https://delfriscos.com/private-events/, https://delfriscos.com/catering/, https://delfriscos.alohaorderonline.com/Engage.aspx#/engage/ordering/menu, https://delfriscos.com/gift-cards/, https://www.landrysinc.com/franchise/del-friscos-franchise, https://www.landrysselect.com/join-now/, https://careers.landrysinc.com/landrys-careers-home/jobs?tags1=Del%20Frisco%27s, https://specials.delfriscos.com/join-email/, https://delfriscos.com/accessibility/, https://www.landrysinc.com/terms-of-use, https://www.landrysinc.com/feedback-brands-listing, https://delfriscos.alohaorderonline.com/Engage.aspx#/engage/ordering/menu, https://www.facebook.com/DelFrisco/, https://twitter.com/del_friscos, https://www.instagram.com/del.friscos/, https://getbento.com/?utm_source=header&utm_campaign=delfriscos.com, https://delfriscos.com/store-locator, https://delfriscos.com/specials, https://delfriscos.com/event/concha-y-toro-wine-dinner/, https://delfriscos.com/event/easter/, https://delfriscos.com/event/lent-2024/, https://delfriscos.com/store-locator, https://delfriscos.com/store-locator, https://delfriscos.com/private-events, https://www.landrysinc.com/privacy-notice, https://delfriscos.alohaorderonline.com/Engage.aspx#/engage/ordering/menu, https://www.facebook.com/DelFrisco/, https://twitter.com/del_friscos, https://www.instagram.com/del.friscos/, https://delfriscos.com/gift-cards/, https://www.landrysinc.com/franchise/del-friscos-franchise, https://www.landrysselect.com/join-now/, https://careers.landrysinc.com/landrys-careers-home/jobs?tags1=Del%20Frisco%27s, https://specials.delfriscos.com/join-email/, https://delfriscos.com/accessibility/, https://www.landrysinc.com/terms-of-use, https://www.landrysinc.com/feedback-brands-listing, https://www.landrysinc.com/privacy-notice, https://delfriscos.alohaorderonline.com/Engage.aspx#/engage/ordering/menu, https://getbento.com/?utm_source=footer&utm_campaign=delfriscos.com, https://policies.google.com/privacy, https://policies.google.com/terms, https://www.landrysinc.com/privacy-notice, https://policies.google.com/privacy, https://policies.google.com/terms\n"
     ]
    }
   ],
   "source": [
    "data = df['menu_links'][:7].to_list()\n",
    "print(data[0])\n",
    "text_data = ', '.join(data[0])\n",
    "print(text_data)"
   ]
  },
  {
   "cell_type": "code",
   "execution_count": 70,
   "metadata": {},
   "outputs": [
    {
     "ename": "ValidationError",
     "evalue": "1 validation error for Menu_Links\n  Input should be a valid dictionary or instance of Menu_Links [type=model_type, input_value=1, input_type=int]\n    For further information visit https://errors.pydantic.dev/2.6/v/model_type",
     "output_type": "error",
     "traceback": [
      "\u001b[1;31m---------------------------------------------------------------------------\u001b[0m",
      "\u001b[1;31mValidationError\u001b[0m                           Traceback (most recent call last)",
      "Cell \u001b[1;32mIn[70], line 29\u001b[0m\n\u001b[0;32m     26\u001b[0m data \u001b[38;5;241m=\u001b[39m \u001b[38;5;124m'\u001b[39m\u001b[38;5;124m, \u001b[39m\u001b[38;5;124m'\u001b[39m\u001b[38;5;241m.\u001b[39mjoin(datum)\n\u001b[0;32m     27\u001b[0m chain1 \u001b[38;5;241m=\u001b[39m prompt \u001b[38;5;241m|\u001b[39m llm \u001b[38;5;241m|\u001b[39m parser\n\u001b[1;32m---> 29\u001b[0m results \u001b[38;5;241m=\u001b[39m \u001b[43mchain1\u001b[49m\u001b[38;5;241;43m.\u001b[39;49m\u001b[43minvoke\u001b[49m\u001b[43m(\u001b[49m\u001b[43m{\u001b[49m\u001b[38;5;124;43m\"\u001b[39;49m\u001b[38;5;124;43minput\u001b[39;49m\u001b[38;5;124;43m\"\u001b[39;49m\u001b[43m:\u001b[49m\u001b[43m \u001b[49m\u001b[38;5;124;43m\"\u001b[39;49m\u001b[38;5;124;43mPlease select only links related to the restaurant menu and description of each link, why it could be a menu link from \u001b[39;49m\u001b[38;5;132;43;01m{data}\u001b[39;49;00m\u001b[38;5;124;43m\"\u001b[39;49m\u001b[43m,\u001b[49m\n\u001b[0;32m     30\u001b[0m \u001b[43m                        \u001b[49m\u001b[38;5;124;43m\"\u001b[39;49m\u001b[38;5;124;43mdata\u001b[39;49m\u001b[38;5;124;43m\"\u001b[39;49m\u001b[43m:\u001b[49m\u001b[43m \u001b[49m\u001b[43mdata\u001b[49m\u001b[43m}\u001b[49m\u001b[43m)\u001b[49m\n\u001b[0;32m     31\u001b[0m \u001b[38;5;28mprint\u001b[39m(results)\n\u001b[0;32m     32\u001b[0m df\u001b[38;5;241m.\u001b[39mat[i, \u001b[38;5;124m'\u001b[39m\u001b[38;5;124msel_links\u001b[39m\u001b[38;5;124m'\u001b[39m] \u001b[38;5;241m=\u001b[39m results\n",
      "File \u001b[1;32mc:\\Users\\shres\\AppData\\Local\\Programs\\Python\\Python312\\Lib\\site-packages\\langchain_core\\runnables\\base.py:2309\u001b[0m, in \u001b[0;36mRunnableSequence.invoke\u001b[1;34m(self, input, config)\u001b[0m\n\u001b[0;32m   2307\u001b[0m \u001b[38;5;28;01mtry\u001b[39;00m:\n\u001b[0;32m   2308\u001b[0m     \u001b[38;5;28;01mfor\u001b[39;00m i, step \u001b[38;5;129;01min\u001b[39;00m \u001b[38;5;28menumerate\u001b[39m(\u001b[38;5;28mself\u001b[39m\u001b[38;5;241m.\u001b[39msteps):\n\u001b[1;32m-> 2309\u001b[0m         \u001b[38;5;28minput\u001b[39m \u001b[38;5;241m=\u001b[39m \u001b[43mstep\u001b[49m\u001b[38;5;241;43m.\u001b[39;49m\u001b[43minvoke\u001b[49m\u001b[43m(\u001b[49m\n\u001b[0;32m   2310\u001b[0m \u001b[43m            \u001b[49m\u001b[38;5;28;43minput\u001b[39;49m\u001b[43m,\u001b[49m\n\u001b[0;32m   2311\u001b[0m \u001b[43m            \u001b[49m\u001b[38;5;66;43;03m# mark each step as a child run\u001b[39;49;00m\n\u001b[0;32m   2312\u001b[0m \u001b[43m            \u001b[49m\u001b[43mpatch_config\u001b[49m\u001b[43m(\u001b[49m\n\u001b[0;32m   2313\u001b[0m \u001b[43m                \u001b[49m\u001b[43mconfig\u001b[49m\u001b[43m,\u001b[49m\u001b[43m \u001b[49m\u001b[43mcallbacks\u001b[49m\u001b[38;5;241;43m=\u001b[39;49m\u001b[43mrun_manager\u001b[49m\u001b[38;5;241;43m.\u001b[39;49m\u001b[43mget_child\u001b[49m\u001b[43m(\u001b[49m\u001b[38;5;124;43mf\u001b[39;49m\u001b[38;5;124;43m\"\u001b[39;49m\u001b[38;5;124;43mseq:step:\u001b[39;49m\u001b[38;5;132;43;01m{\u001b[39;49;00m\u001b[43mi\u001b[49m\u001b[38;5;241;43m+\u001b[39;49m\u001b[38;5;241;43m1\u001b[39;49m\u001b[38;5;132;43;01m}\u001b[39;49;00m\u001b[38;5;124;43m\"\u001b[39;49m\u001b[43m)\u001b[49m\n\u001b[0;32m   2314\u001b[0m \u001b[43m            \u001b[49m\u001b[43m)\u001b[49m\u001b[43m,\u001b[49m\n\u001b[0;32m   2315\u001b[0m \u001b[43m        \u001b[49m\u001b[43m)\u001b[49m\n\u001b[0;32m   2316\u001b[0m \u001b[38;5;66;03m# finish the root run\u001b[39;00m\n\u001b[0;32m   2317\u001b[0m \u001b[38;5;28;01mexcept\u001b[39;00m \u001b[38;5;167;01mBaseException\u001b[39;00m \u001b[38;5;28;01mas\u001b[39;00m e:\n",
      "File \u001b[1;32mc:\\Users\\shres\\AppData\\Local\\Programs\\Python\\Python312\\Lib\\site-packages\\langchain_core\\output_parsers\\base.py:169\u001b[0m, in \u001b[0;36mBaseOutputParser.invoke\u001b[1;34m(self, input, config)\u001b[0m\n\u001b[0;32m    165\u001b[0m \u001b[38;5;28;01mdef\u001b[39;00m \u001b[38;5;21minvoke\u001b[39m(\n\u001b[0;32m    166\u001b[0m     \u001b[38;5;28mself\u001b[39m, \u001b[38;5;28minput\u001b[39m: Union[\u001b[38;5;28mstr\u001b[39m, BaseMessage], config: Optional[RunnableConfig] \u001b[38;5;241m=\u001b[39m \u001b[38;5;28;01mNone\u001b[39;00m\n\u001b[0;32m    167\u001b[0m ) \u001b[38;5;241m-\u001b[39m\u001b[38;5;241m>\u001b[39m T:\n\u001b[0;32m    168\u001b[0m     \u001b[38;5;28;01mif\u001b[39;00m \u001b[38;5;28misinstance\u001b[39m(\u001b[38;5;28minput\u001b[39m, BaseMessage):\n\u001b[1;32m--> 169\u001b[0m         \u001b[38;5;28;01mreturn\u001b[39;00m \u001b[38;5;28;43mself\u001b[39;49m\u001b[38;5;241;43m.\u001b[39;49m\u001b[43m_call_with_config\u001b[49m\u001b[43m(\u001b[49m\n\u001b[0;32m    170\u001b[0m \u001b[43m            \u001b[49m\u001b[38;5;28;43;01mlambda\u001b[39;49;00m\u001b[43m \u001b[49m\u001b[43minner_input\u001b[49m\u001b[43m:\u001b[49m\u001b[43m \u001b[49m\u001b[38;5;28;43mself\u001b[39;49m\u001b[38;5;241;43m.\u001b[39;49m\u001b[43mparse_result\u001b[49m\u001b[43m(\u001b[49m\n\u001b[0;32m    171\u001b[0m \u001b[43m                \u001b[49m\u001b[43m[\u001b[49m\u001b[43mChatGeneration\u001b[49m\u001b[43m(\u001b[49m\u001b[43mmessage\u001b[49m\u001b[38;5;241;43m=\u001b[39;49m\u001b[43minner_input\u001b[49m\u001b[43m)\u001b[49m\u001b[43m]\u001b[49m\n\u001b[0;32m    172\u001b[0m \u001b[43m            \u001b[49m\u001b[43m)\u001b[49m\u001b[43m,\u001b[49m\n\u001b[0;32m    173\u001b[0m \u001b[43m            \u001b[49m\u001b[38;5;28;43minput\u001b[39;49m\u001b[43m,\u001b[49m\n\u001b[0;32m    174\u001b[0m \u001b[43m            \u001b[49m\u001b[43mconfig\u001b[49m\u001b[43m,\u001b[49m\n\u001b[0;32m    175\u001b[0m \u001b[43m            \u001b[49m\u001b[43mrun_type\u001b[49m\u001b[38;5;241;43m=\u001b[39;49m\u001b[38;5;124;43m\"\u001b[39;49m\u001b[38;5;124;43mparser\u001b[39;49m\u001b[38;5;124;43m\"\u001b[39;49m\u001b[43m,\u001b[49m\n\u001b[0;32m    176\u001b[0m \u001b[43m        \u001b[49m\u001b[43m)\u001b[49m\n\u001b[0;32m    177\u001b[0m     \u001b[38;5;28;01melse\u001b[39;00m:\n\u001b[0;32m    178\u001b[0m         \u001b[38;5;28;01mreturn\u001b[39;00m \u001b[38;5;28mself\u001b[39m\u001b[38;5;241m.\u001b[39m_call_with_config(\n\u001b[0;32m    179\u001b[0m             \u001b[38;5;28;01mlambda\u001b[39;00m inner_input: \u001b[38;5;28mself\u001b[39m\u001b[38;5;241m.\u001b[39mparse_result([Generation(text\u001b[38;5;241m=\u001b[39minner_input)]),\n\u001b[0;32m    180\u001b[0m             \u001b[38;5;28minput\u001b[39m,\n\u001b[0;32m    181\u001b[0m             config,\n\u001b[0;32m    182\u001b[0m             run_type\u001b[38;5;241m=\u001b[39m\u001b[38;5;124m\"\u001b[39m\u001b[38;5;124mparser\u001b[39m\u001b[38;5;124m\"\u001b[39m,\n\u001b[0;32m    183\u001b[0m         )\n",
      "File \u001b[1;32mc:\\Users\\shres\\AppData\\Local\\Programs\\Python\\Python312\\Lib\\site-packages\\langchain_core\\runnables\\base.py:1488\u001b[0m, in \u001b[0;36mRunnable._call_with_config\u001b[1;34m(self, func, input, config, run_type, **kwargs)\u001b[0m\n\u001b[0;32m   1484\u001b[0m     context \u001b[38;5;241m=\u001b[39m copy_context()\n\u001b[0;32m   1485\u001b[0m     context\u001b[38;5;241m.\u001b[39mrun(var_child_runnable_config\u001b[38;5;241m.\u001b[39mset, child_config)\n\u001b[0;32m   1486\u001b[0m     output \u001b[38;5;241m=\u001b[39m cast(\n\u001b[0;32m   1487\u001b[0m         Output,\n\u001b[1;32m-> 1488\u001b[0m         \u001b[43mcontext\u001b[49m\u001b[38;5;241;43m.\u001b[39;49m\u001b[43mrun\u001b[49m\u001b[43m(\u001b[49m\n\u001b[0;32m   1489\u001b[0m \u001b[43m            \u001b[49m\u001b[43mcall_func_with_variable_args\u001b[49m\u001b[43m,\u001b[49m\u001b[43m  \u001b[49m\u001b[38;5;66;43;03m# type: ignore[arg-type]\u001b[39;49;00m\n\u001b[0;32m   1490\u001b[0m \u001b[43m            \u001b[49m\u001b[43mfunc\u001b[49m\u001b[43m,\u001b[49m\u001b[43m  \u001b[49m\u001b[38;5;66;43;03m# type: ignore[arg-type]\u001b[39;49;00m\n\u001b[0;32m   1491\u001b[0m \u001b[43m            \u001b[49m\u001b[38;5;28;43minput\u001b[39;49m\u001b[43m,\u001b[49m\u001b[43m  \u001b[49m\u001b[38;5;66;43;03m# type: ignore[arg-type]\u001b[39;49;00m\n\u001b[0;32m   1492\u001b[0m \u001b[43m            \u001b[49m\u001b[43mconfig\u001b[49m\u001b[43m,\u001b[49m\n\u001b[0;32m   1493\u001b[0m \u001b[43m            \u001b[49m\u001b[43mrun_manager\u001b[49m\u001b[43m,\u001b[49m\n\u001b[0;32m   1494\u001b[0m \u001b[43m            \u001b[49m\u001b[38;5;241;43m*\u001b[39;49m\u001b[38;5;241;43m*\u001b[39;49m\u001b[43mkwargs\u001b[49m\u001b[43m,\u001b[49m\n\u001b[0;32m   1495\u001b[0m \u001b[43m        \u001b[49m\u001b[43m)\u001b[49m,\n\u001b[0;32m   1496\u001b[0m     )\n\u001b[0;32m   1497\u001b[0m \u001b[38;5;28;01mexcept\u001b[39;00m \u001b[38;5;167;01mBaseException\u001b[39;00m \u001b[38;5;28;01mas\u001b[39;00m e:\n\u001b[0;32m   1498\u001b[0m     run_manager\u001b[38;5;241m.\u001b[39mon_chain_error(e)\n",
      "File \u001b[1;32mc:\\Users\\shres\\AppData\\Local\\Programs\\Python\\Python312\\Lib\\site-packages\\langchain_core\\runnables\\config.py:347\u001b[0m, in \u001b[0;36mcall_func_with_variable_args\u001b[1;34m(func, input, config, run_manager, **kwargs)\u001b[0m\n\u001b[0;32m    345\u001b[0m \u001b[38;5;28;01mif\u001b[39;00m run_manager \u001b[38;5;129;01mis\u001b[39;00m \u001b[38;5;129;01mnot\u001b[39;00m \u001b[38;5;28;01mNone\u001b[39;00m \u001b[38;5;129;01mand\u001b[39;00m accepts_run_manager(func):\n\u001b[0;32m    346\u001b[0m     kwargs[\u001b[38;5;124m\"\u001b[39m\u001b[38;5;124mrun_manager\u001b[39m\u001b[38;5;124m\"\u001b[39m] \u001b[38;5;241m=\u001b[39m run_manager\n\u001b[1;32m--> 347\u001b[0m \u001b[38;5;28;01mreturn\u001b[39;00m \u001b[43mfunc\u001b[49m\u001b[43m(\u001b[49m\u001b[38;5;28;43minput\u001b[39;49m\u001b[43m,\u001b[49m\u001b[43m \u001b[49m\u001b[38;5;241;43m*\u001b[39;49m\u001b[38;5;241;43m*\u001b[39;49m\u001b[43mkwargs\u001b[49m\u001b[43m)\u001b[49m\n",
      "File \u001b[1;32mc:\\Users\\shres\\AppData\\Local\\Programs\\Python\\Python312\\Lib\\site-packages\\langchain_core\\output_parsers\\base.py:170\u001b[0m, in \u001b[0;36mBaseOutputParser.invoke.<locals>.<lambda>\u001b[1;34m(inner_input)\u001b[0m\n\u001b[0;32m    165\u001b[0m \u001b[38;5;28;01mdef\u001b[39;00m \u001b[38;5;21minvoke\u001b[39m(\n\u001b[0;32m    166\u001b[0m     \u001b[38;5;28mself\u001b[39m, \u001b[38;5;28minput\u001b[39m: Union[\u001b[38;5;28mstr\u001b[39m, BaseMessage], config: Optional[RunnableConfig] \u001b[38;5;241m=\u001b[39m \u001b[38;5;28;01mNone\u001b[39;00m\n\u001b[0;32m    167\u001b[0m ) \u001b[38;5;241m-\u001b[39m\u001b[38;5;241m>\u001b[39m T:\n\u001b[0;32m    168\u001b[0m     \u001b[38;5;28;01mif\u001b[39;00m \u001b[38;5;28misinstance\u001b[39m(\u001b[38;5;28minput\u001b[39m, BaseMessage):\n\u001b[0;32m    169\u001b[0m         \u001b[38;5;28;01mreturn\u001b[39;00m \u001b[38;5;28mself\u001b[39m\u001b[38;5;241m.\u001b[39m_call_with_config(\n\u001b[1;32m--> 170\u001b[0m             \u001b[38;5;28;01mlambda\u001b[39;00m inner_input: \u001b[38;5;28;43mself\u001b[39;49m\u001b[38;5;241;43m.\u001b[39;49m\u001b[43mparse_result\u001b[49m\u001b[43m(\u001b[49m\n\u001b[0;32m    171\u001b[0m \u001b[43m                \u001b[49m\u001b[43m[\u001b[49m\u001b[43mChatGeneration\u001b[49m\u001b[43m(\u001b[49m\u001b[43mmessage\u001b[49m\u001b[38;5;241;43m=\u001b[39;49m\u001b[43minner_input\u001b[49m\u001b[43m)\u001b[49m\u001b[43m]\u001b[49m\n\u001b[0;32m    172\u001b[0m \u001b[43m            \u001b[49m\u001b[43m)\u001b[49m,\n\u001b[0;32m    173\u001b[0m             \u001b[38;5;28minput\u001b[39m,\n\u001b[0;32m    174\u001b[0m             config,\n\u001b[0;32m    175\u001b[0m             run_type\u001b[38;5;241m=\u001b[39m\u001b[38;5;124m\"\u001b[39m\u001b[38;5;124mparser\u001b[39m\u001b[38;5;124m\"\u001b[39m,\n\u001b[0;32m    176\u001b[0m         )\n\u001b[0;32m    177\u001b[0m     \u001b[38;5;28;01melse\u001b[39;00m:\n\u001b[0;32m    178\u001b[0m         \u001b[38;5;28;01mreturn\u001b[39;00m \u001b[38;5;28mself\u001b[39m\u001b[38;5;241m.\u001b[39m_call_with_config(\n\u001b[0;32m    179\u001b[0m             \u001b[38;5;28;01mlambda\u001b[39;00m inner_input: \u001b[38;5;28mself\u001b[39m\u001b[38;5;241m.\u001b[39mparse_result([Generation(text\u001b[38;5;241m=\u001b[39minner_input)]),\n\u001b[0;32m    180\u001b[0m             \u001b[38;5;28minput\u001b[39m,\n\u001b[0;32m    181\u001b[0m             config,\n\u001b[0;32m    182\u001b[0m             run_type\u001b[38;5;241m=\u001b[39m\u001b[38;5;124m\"\u001b[39m\u001b[38;5;124mparser\u001b[39m\u001b[38;5;124m\"\u001b[39m,\n\u001b[0;32m    183\u001b[0m         )\n",
      "File \u001b[1;32mc:\\Users\\shres\\AppData\\Local\\Programs\\Python\\Python312\\Lib\\site-packages\\langchain_core\\output_parsers\\pydantic.py:27\u001b[0m, in \u001b[0;36mPydanticOutputParser.parse_result\u001b[1;34m(self, result, partial)\u001b[0m\n\u001b[0;32m     25\u001b[0m json_object \u001b[38;5;241m=\u001b[39m \u001b[38;5;28msuper\u001b[39m()\u001b[38;5;241m.\u001b[39mparse_result(result)\n\u001b[0;32m     26\u001b[0m \u001b[38;5;28;01mtry\u001b[39;00m:\n\u001b[1;32m---> 27\u001b[0m     \u001b[38;5;28;01mreturn\u001b[39;00m \u001b[38;5;28;43mself\u001b[39;49m\u001b[38;5;241;43m.\u001b[39;49m\u001b[43mpydantic_object\u001b[49m\u001b[38;5;241;43m.\u001b[39;49m\u001b[43mparse_obj\u001b[49m\u001b[43m(\u001b[49m\u001b[43mjson_object\u001b[49m\u001b[43m)\u001b[49m\n\u001b[0;32m     28\u001b[0m \u001b[38;5;28;01mexcept\u001b[39;00m ValidationError \u001b[38;5;28;01mas\u001b[39;00m e:\n\u001b[0;32m     29\u001b[0m     name \u001b[38;5;241m=\u001b[39m \u001b[38;5;28mself\u001b[39m\u001b[38;5;241m.\u001b[39mpydantic_object\u001b[38;5;241m.\u001b[39m\u001b[38;5;18m__name__\u001b[39m\n",
      "File \u001b[1;32mc:\\Users\\shres\\AppData\\Local\\Programs\\Python\\Python312\\Lib\\site-packages\\pydantic\\main.py:1072\u001b[0m, in \u001b[0;36mBaseModel.parse_obj\u001b[1;34m(cls, obj)\u001b[0m\n\u001b[0;32m   1066\u001b[0m \u001b[38;5;129m@classmethod\u001b[39m\n\u001b[0;32m   1067\u001b[0m \u001b[38;5;129m@typing_extensions\u001b[39m\u001b[38;5;241m.\u001b[39mdeprecated(\u001b[38;5;124m'\u001b[39m\u001b[38;5;124mThe `parse_obj` method is deprecated; use `model_validate` instead.\u001b[39m\u001b[38;5;124m'\u001b[39m, category\u001b[38;5;241m=\u001b[39m\u001b[38;5;28;01mNone\u001b[39;00m)\n\u001b[0;32m   1068\u001b[0m \u001b[38;5;28;01mdef\u001b[39;00m \u001b[38;5;21mparse_obj\u001b[39m(\u001b[38;5;28mcls\u001b[39m: \u001b[38;5;28mtype\u001b[39m[Model], obj: Any) \u001b[38;5;241m-\u001b[39m\u001b[38;5;241m>\u001b[39m Model:  \u001b[38;5;66;03m# noqa: D102\u001b[39;00m\n\u001b[0;32m   1069\u001b[0m     warnings\u001b[38;5;241m.\u001b[39mwarn(\n\u001b[0;32m   1070\u001b[0m         \u001b[38;5;124m'\u001b[39m\u001b[38;5;124mThe `parse_obj` method is deprecated; use `model_validate` instead.\u001b[39m\u001b[38;5;124m'\u001b[39m, category\u001b[38;5;241m=\u001b[39mPydanticDeprecatedSince20\n\u001b[0;32m   1071\u001b[0m     )\n\u001b[1;32m-> 1072\u001b[0m     \u001b[38;5;28;01mreturn\u001b[39;00m \u001b[38;5;28;43mcls\u001b[39;49m\u001b[38;5;241;43m.\u001b[39;49m\u001b[43mmodel_validate\u001b[49m\u001b[43m(\u001b[49m\u001b[43mobj\u001b[49m\u001b[43m)\u001b[49m\n",
      "File \u001b[1;32mc:\\Users\\shres\\AppData\\Local\\Programs\\Python\\Python312\\Lib\\site-packages\\pydantic\\main.py:509\u001b[0m, in \u001b[0;36mBaseModel.model_validate\u001b[1;34m(cls, obj, strict, from_attributes, context)\u001b[0m\n\u001b[0;32m    507\u001b[0m \u001b[38;5;66;03m# `__tracebackhide__` tells pytest and some other tools to omit this function from tracebacks\u001b[39;00m\n\u001b[0;32m    508\u001b[0m __tracebackhide__ \u001b[38;5;241m=\u001b[39m \u001b[38;5;28;01mTrue\u001b[39;00m\n\u001b[1;32m--> 509\u001b[0m \u001b[38;5;28;01mreturn\u001b[39;00m \u001b[38;5;28;43mcls\u001b[39;49m\u001b[38;5;241;43m.\u001b[39;49m\u001b[43m__pydantic_validator__\u001b[49m\u001b[38;5;241;43m.\u001b[39;49m\u001b[43mvalidate_python\u001b[49m\u001b[43m(\u001b[49m\n\u001b[0;32m    510\u001b[0m \u001b[43m    \u001b[49m\u001b[43mobj\u001b[49m\u001b[43m,\u001b[49m\u001b[43m \u001b[49m\u001b[43mstrict\u001b[49m\u001b[38;5;241;43m=\u001b[39;49m\u001b[43mstrict\u001b[49m\u001b[43m,\u001b[49m\u001b[43m \u001b[49m\u001b[43mfrom_attributes\u001b[49m\u001b[38;5;241;43m=\u001b[39;49m\u001b[43mfrom_attributes\u001b[49m\u001b[43m,\u001b[49m\u001b[43m \u001b[49m\u001b[43mcontext\u001b[49m\u001b[38;5;241;43m=\u001b[39;49m\u001b[43mcontext\u001b[49m\n\u001b[0;32m    511\u001b[0m \u001b[43m\u001b[49m\u001b[43m)\u001b[49m\n",
      "\u001b[1;31mValidationError\u001b[0m: 1 validation error for Menu_Links\n  Input should be a valid dictionary or instance of Menu_Links [type=model_type, input_value=1, input_type=int]\n    For further information visit https://errors.pydantic.dev/2.6/v/model_type"
     ]
    }
   ],
   "source": [
    "import openai\n",
    "from langchain.chat_models import ChatOpenAI\n",
    "from langchain.prompts.chat import (\n",
    "    ChatPromptTemplate,\n",
    "    HumanMessagePromptTemplate\n",
    ")\n",
    "from langchain.output_parsers import PydanticOutputParser\n",
    "from pydantic import BaseModel, Field\n",
    "\n",
    "datas = df['menu_links'][:3].to_list()\n",
    "df['sel_links'] = None\n",
    "\n",
    "prompt = ChatPromptTemplate.from_messages([\n",
    "        (\"system\", \"You are a world class food menu link analyzer. Your job is to select the url links related to the restaurant food menu from {data} list\"),\n",
    "        (\"user\", \"{input}\")\n",
    "    ])\n",
    "\n",
    "    \n",
    "class Menu_Links(BaseModel):\n",
    "    url_link: list = Field(description=\"url link of the all restaurant food related menu\"),\n",
    "    description: str = Field(description=\"provide with the reason why this link might be related to the restaurant menu\")\n",
    "    \n",
    "parser = PydanticOutputParser(pydantic_object=Menu_Links)\n",
    "\n",
    "for i, datum in enumerate(datas):\n",
    "    data = ', '.join(datum)\n",
    "    chain1 = prompt | llm | parser\n",
    "\n",
    "    results = chain1.invoke({\"input\": \"Please select only links related to the restaurant menu and description of each link, why it could be a menu link from {data}\",\n",
    "                            \"data\": data})\n",
    "    print(results)\n",
    "    df.at[i, 'sel_links'] = results\n",
    "# print[df['sel_links']]"
   ]
  },
  {
   "cell_type": "code",
   "execution_count": 48,
   "metadata": {},
   "outputs": [
    {
     "name": "stdout",
     "output_type": "stream",
     "text": [
      "0        content='{\\n    \\'https://delfriscos.alohaorde...\n",
      "1        content=\"{\\n    'https://www.tacobell.com/food...\n",
      "2        content=\"{\\n    'https://tropicalsmoothiecafe....\n",
      "3                                                     None\n",
      "4                                                     None\n",
      "                               ...                        \n",
      "20861                                                 None\n",
      "20862                                                 None\n",
      "20863                                                 None\n",
      "20864                                                 None\n",
      "20865                                                 None\n",
      "Name: sel_links, Length: 20866, dtype: object\n"
     ]
    }
   ],
   "source": [
    "print(df['sel_links'])"
   ]
  },
  {
   "cell_type": "code",
   "execution_count": 25,
   "metadata": {},
   "outputs": [
    {
     "ename": "NameError",
     "evalue": "name 'results' is not defined",
     "output_type": "error",
     "traceback": [
      "\u001b[1;31m---------------------------------------------------------------------------\u001b[0m",
      "\u001b[1;31mNameError\u001b[0m                                 Traceback (most recent call last)",
      "Cell \u001b[1;32mIn[25], line 1\u001b[0m\n\u001b[1;32m----> 1\u001b[0m \u001b[38;5;28mprint\u001b[39m[\u001b[43mresults\u001b[49m]\n",
      "\u001b[1;31mNameError\u001b[0m: name 'results' is not defined"
     ]
    }
   ],
   "source": [
    "  print[results]"
   ]
  }
 ],
 "metadata": {
  "kernelspec": {
   "display_name": "Python 3",
   "language": "python",
   "name": "python3"
  },
  "language_info": {
   "codemirror_mode": {
    "name": "ipython",
    "version": 3
   },
   "file_extension": ".py",
   "mimetype": "text/x-python",
   "name": "python",
   "nbconvert_exporter": "python",
   "pygments_lexer": "ipython3",
   "version": "3.12.1"
  }
 },
 "nbformat": 4,
 "nbformat_minor": 2
}
