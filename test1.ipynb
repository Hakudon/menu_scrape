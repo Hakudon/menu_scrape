{
 "cells": [
  {
   "cell_type": "code",
   "execution_count": null,
   "metadata": {},
   "outputs": [],
   "source": [
    "import os\n",
    "\n",
    "api_key = os.getenv(\"openai_api_key\")"
   ]
  },
  {
   "cell_type": "code",
   "execution_count": 1,
   "metadata": {},
   "outputs": [
    {
     "name": "stdout",
     "output_type": "stream",
     "text": [
      "hello\n"
     ]
    }
   ],
   "source": [
    "print(\"hello\")"
   ]
  },
  {
   "cell_type": "code",
   "execution_count": null,
   "metadata": {},
   "outputs": [],
   "source": []
  },
  {
   "cell_type": "code",
   "execution_count": null,
   "metadata": {},
   "outputs": [],
   "source": [
    "import aiohttp\n",
    "from bs4 import BeautifulSoup\n",
    "import pprint\n",
    "from playwright.async_api import async_playwright\n",
    "from langchain.chains import create_extraction_chain\n",
    "from langchain_text_splitters import RecursiveCharacterTextSplitter\n",
    "from langchain.chat_models import ChatOpenAI\n",
    "\n",
    "from langchain_community.document_loaders import AsyncChromiumLoader\n",
    "from langchain_community.document_loaders import AsyncHtmlLoader\n",
    "from langchain_community.document_transformers import Html2TextTransformer\n",
    "from langchain_community.document_transformers import BeautifulSoupTransformer\n"
   ]
  },
  {
   "cell_type": "code",
   "execution_count": null,
   "metadata": {},
   "outputs": [],
   "source": [
    "llm = ChatOpenAI(temperature=0, model=\"gpt-3.5-turbo-0125\", openai_api_key=api_key)\n",
    "\n",
    "schema1 = {\n",
    "    \"properties\": {\n",
    "        \"food\": {\"type\": \"string\"},\n",
    "        \"price\": {\"type\": \"integer\"},\n",
    "        \"description\": {\"type\": \"string\"}\n",
    "    },\n",
    "    \"required\": [\"food\", \"price\", \"description\"]\n",
    "}\n",
    "schema2 = {\n",
    "    \"properties\": {\n",
    "        \"food category\": {\"title\":\"Category\", \"description\": \"The main food category in menu\", \"type\": \"string\"},\n",
    "        \"food item\": {\"title\":\"Food name\", \"description\": \"The main food item in menu\", \"type\": \"string\"},\n",
    "        \"food price\": {\"title\": \"Price\", \"description\": \"The price of each food item\", \"type\": \"integer\"},\n",
    "        \"description\": {\"title\": \"Description\", \"description\": \"The description of food item\",\"type\": \"string\"}\n",
    "    },\n",
    "    \"required\": [\"food category\",\"food item\", \"food price\", \"description\"]\n",
    "}\n",
    "\n",
    "structured_schema = {\n",
    "    \"properties\": {\n",
    "        \"product\": {\"type\": \"string\"},\n",
    "        \"description\": {\"type\": \"string\"},\n",
    "    },\n",
    "    \"required\": [\"product\", \"description\"],\n",
    "}\n",
    "\n",
    "def extract(content: str, schema: dict):\n",
    "    return create_extraction_chain(schema=schema, llm=llm).run(content)"
   ]
  },
  {
   "cell_type": "code",
   "execution_count": null,
   "metadata": {},
   "outputs": [],
   "source": [
    "# from langchain_text_splitters import RecursiveCharacterTextSplitter\n",
    "def scrape_with_playwright(urls, schema):\n",
    "    loader = AsyncHtmlLoader(urls)\n",
    "    docs = loader.load()\n",
    "    \n",
    "    html2text = Html2TextTransformer()\n",
    "    docs_transformed = html2text.transform_documents(docs)\n",
    "    \n",
    "    print(\"Extracting content with LLM\")\n",
    "\n",
    "    # Grab the first 1000 tokens of the site\n",
    "    splitter = RecursiveCharacterTextSplitter.from_tiktoken_encoder(\n",
    "        chunk_size=800, chunk_overlap=0\n",
    "    )\n",
    "    splits = splitter.split_documents(docs_transformed)\n",
    "\n",
    "    # Process the first split\n",
    "    extracted_content = extract(schema=schema, content=splits[0].page_content)\n",
    "    pprint.pprint(extracted_content)\n",
    "    return extracted_content\n",
    "\n",
    "urls = [\"https://cafebrazil.com/menu/\"]\n",
    "extracted_content = scrape_with_playwright(urls, schema=schema2)\n"
   ]
  },
  {
   "cell_type": "markdown",
   "metadata": {},
   "source": [
    "#######################################################################"
   ]
  },
  {
   "cell_type": "code",
   "execution_count": null,
   "metadata": {},
   "outputs": [],
   "source": [
    "from langchain_core.prompts import ChatPromptTemplate\n",
    "from langchain.chat_models import ChatOpenAI\n",
    "\n",
    "llm = ChatOpenAI(temperature=0, model=\"gpt-3.5-turbo-0125\", openai_api_key=api_key)"
   ]
  },
  {
   "cell_type": "code",
   "execution_count": null,
   "metadata": {},
   "outputs": [],
   "source": [
    "urls = [\"https://getglasskin.com/\",\"https://cafebrazil.com/menu/\"]\n",
    "url = [\"https://cafebrazil.com/menu\", \"https://thetownedeli.com/food-menu/\"]\n",
    "url2 = [\"https://cafebrazil.com\"]\n",
    "\n",
    "from langchain_community.document_loaders import SeleniumURLLoader\n",
    "loader = SeleniumURLLoader(urls=url2)\n",
    "data = loader.load()\n",
    "# data1 = data[1]\n",
    "# data2 = data\n",
    "pprint.pprint(data)"
   ]
  },
  {
   "cell_type": "code",
   "execution_count": null,
   "metadata": {},
   "outputs": [],
   "source": [
    "#Alternative loader\n",
    "from bs4 import BeautifulSoup as Soup\n",
    "from langchain_community.document_loaders.recursive_url_loader import RecursiveUrlLoader\n",
    "\n",
    "url = \"https://cafebrazil.com\"\n",
    "loader = RecursiveUrlLoader(\n",
    "    url=url, max_depth=2, extractor=lambda x: Soup(x, \"html.parser\").text\n",
    ")\n",
    "docs = loader.load()\n"
   ]
  },
  {
   "cell_type": "code",
   "execution_count": null,
   "metadata": {},
   "outputs": [],
   "source": [
    "pprint.pprint(docs)"
   ]
  },
  {
   "cell_type": "code",
   "execution_count": null,
   "metadata": {},
   "outputs": [],
   "source": [
    "prompt = ChatPromptTemplate.from_messages([\n",
    "    (\"system\", \"You are a world class food menu analyzer. Your job is to extract all menu link from the given {data}\"),\n",
    "    (\"user\", \"{input}\")\n",
    "])"
   ]
  },
  {
   "cell_type": "code",
   "execution_count": null,
   "metadata": {},
   "outputs": [],
   "source": [
    "\n",
    "prompt = ChatPromptTemplate.from_messages([\n",
    "    (\"system\", \"You are a world class food menu analyzer. Your job is to extract menu data from the given {docs[0]}\"),\n",
    "    (\"user\", \"{input}\")\n",
    "])"
   ]
  },
  {
   "cell_type": "code",
   "execution_count": null,
   "metadata": {},
   "outputs": [],
   "source": [
    "from langchain_core.output_parsers import JsonOutputParser\n",
    "from langchain_core.pydantic_v1 import BaseModel, Field\n",
    "\n",
    "class Menu_Links(BaseModel):\n",
    "    url_link: str = Field(description=\"url link of the menu information\")\n",
    "    \n",
    "class Menu(BaseModel):\n",
    "    category: str = Field(description=\"category of the food menu\")\n",
    "    menu_item: str = Field(description=\"menu item name\")\n",
    "    description: str = Field(description=\"menu item description with ingredients\")\n",
    "    price: float = Field(description=\"price of the menu in USD. 'NA' if not available\")\n",
    "\n",
    "parser = JsonOutputParser(pydantic_object=Menu)\n",
    "# parser = JsonOutputParser(pydantic_object=Menu_Links)"
   ]
  },
  {
   "cell_type": "code",
   "execution_count": null,
   "metadata": {},
   "outputs": [],
   "source": [
    "chain1 = prompt | llm | parser"
   ]
  },
  {
   "cell_type": "code",
   "execution_count": null,
   "metadata": {},
   "outputs": [],
   "source": [
    "results = chain1.invoke({\"input\": \"Please extract all the url links of the information related to the menu from the given {docs} and store it in dictionary\",\n",
    "                         \"data\": docs})"
   ]
  },
  {
   "cell_type": "code",
   "execution_count": null,
   "metadata": {},
   "outputs": [],
   "source": [
    "pprint.pprint(results)"
   ]
  },
  {
   "cell_type": "code",
   "execution_count": null,
   "metadata": {},
   "outputs": [],
   "source": [
    "chain = prompt | llm | parser"
   ]
  },
  {
   "cell_type": "code",
   "execution_count": null,
   "metadata": {},
   "outputs": [],
   "source": [
    "results = chain1.invoke({\"input\": \"Please extract the category, list of all the menu items name within that category along with description in single string format and price of the menu item from {docs} in a json format. If price is not available, please leave the field empty\",\n",
    "              \"data\": docs})"
   ]
  },
  {
   "cell_type": "code",
   "execution_count": null,
   "metadata": {},
   "outputs": [],
   "source": [
    "pprint.pprint(results)"
   ]
  },
  {
   "cell_type": "code",
   "execution_count": null,
   "metadata": {},
   "outputs": [],
   "source": [
    "pprint.pprint(results)"
   ]
  },
  {
   "cell_type": "markdown",
   "metadata": {},
   "source": [
    "###############################################################"
   ]
  },
  {
   "cell_type": "code",
   "execution_count": null,
   "metadata": {},
   "outputs": [],
   "source": [
    "urls = [\"https://getglasskin.com/\",\"https://cafebrazil.com\"]\n",
    "url1 = [\"https://cafebrazil.com/menu/\"]\n",
    "url_2 = [\"https://getglasskin.com/\"]\n",
    "from langchain_community.document_loaders import SeleniumURLLoader\n",
    "loader = SeleniumURLLoader(urls=url1)\n",
    "data = loader.load()\n",
    "pprint.pprint(data)"
   ]
  },
  {
   "cell_type": "code",
   "execution_count": null,
   "metadata": {},
   "outputs": [],
   "source": [
    "from langchain.llms import OpenAI\n",
    "from langchain.chat_models import ChatOpenAI\n",
    "from langchain.prompts.chat import (\n",
    "    ChatPromptTemplate,\n",
    "    HumanMessagePromptTemplate\n",
    ")\n",
    "from langchain.output_parsers import PydanticOutputParser\n",
    "from pydantic import BaseModel, Field\n",
    "\n",
    "\n",
    "#building the llm model\n",
    "llm_model = ChatOpenAI(temperature=0, model=\"gpt-3.5-turbo-0125\", openai_api_key=openai_key_2)\n",
    "\n"
   ]
  },
  {
   "cell_type": "code",
   "execution_count": null,
   "metadata": {},
   "outputs": [],
   "source": [
    "#Defining output datatypes within the class and initialize the parser\n",
    "class Menu(BaseModel):\n",
    "    menu: list = Field(description=\"Python list of dictionaries containing category of food, food menu, price of the menu in USD. 'NA' if not available, menu description with ingredients\")\n",
    "    \n",
    "#Initialize a parser\n",
    "parser = PydanticOutputParser(pydantic_object=Menu)"
   ]
  },
  {
   "cell_type": "code",
   "execution_count": null,
   "metadata": {},
   "outputs": [],
   "source": [
    "human_prompt = HumanMessagePromptTemplate.from_template(\"{request}\\n{format_instructions}\")\n",
    "chat_prompt = ChatPromptTemplate.from_messages([human_prompt])\n",
    "\n",
    "request = chat_prompt.format_prompt(\n",
    "    request= \"Give me all the details about the menu from the {data}\",\n",
    "    format_instructions = parser.get_format_instructions()\n",
    ").to_messages()"
   ]
  },
  {
   "cell_type": "code",
   "execution_count": null,
   "metadata": {},
   "outputs": [],
   "source": [
    "results = llm_model(request, temperature=0)\n",
    "result_values = parser.parse(results.content) #menu class object\n",
    "print(result_values)"
   ]
  },
  {
   "cell_type": "code",
   "execution_count": null,
   "metadata": {},
   "outputs": [],
   "source": [
    "import pandas as pd\n",
    "\n",
    "df = pd.read_csv(\"Google_all_details.csv\") \n",
    "res_url = df['Website'].tolist()\n",
    "print(res_url)"
   ]
  },
  {
   "cell_type": "code",
   "execution_count": null,
   "metadata": {},
   "outputs": [],
   "source": [
    "print(df)"
   ]
  }
 ],
 "metadata": {
  "kernelspec": {
   "display_name": "Python 3",
   "language": "python",
   "name": "python3"
  },
  "language_info": {
   "codemirror_mode": {
    "name": "ipython",
    "version": 3
   },
   "file_extension": ".py",
   "mimetype": "text/x-python",
   "name": "python",
   "nbconvert_exporter": "python",
   "pygments_lexer": "ipython3",
   "version": "3.12.1"
  }
 },
 "nbformat": 4,
 "nbformat_minor": 2
}
